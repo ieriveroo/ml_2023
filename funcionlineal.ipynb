{
 "cells": [
  {
   "cell_type": "code",
   "execution_count": 28,
   "metadata": {},
   "outputs": [],
   "source": [
    "import matplotlib.pyplot as plt\n",
    "import numpy"
   ]
  },
  {
   "attachments": {},
   "cell_type": "markdown",
   "metadata": {},
   "source": [
    "VALORES "
   ]
  },
  {
   "cell_type": "code",
   "execution_count": 23,
   "metadata": {},
   "outputs": [],
   "source": [
    "xi = (1.0,1.6,3.4,4.0,5.2)\n",
    "yi = (1.2,2.0,2.4,3.5,3.5)\n",
    "N = 5\n",
    "\n",
    "#COMPRENGETION\n",
    "xi2 =  [pow(i,2) for i in xi]\n",
    "xiyi = [i * j for i,j in zip(xi,yi)] \n",
    "\n",
    "# SUMATORIAS\n",
    "\n",
    "Exi = sum(xi)\n",
    "Eyi = sum(yi)\n",
    "Exiyi = sum(xiyi)\n",
    "Exi2 = sum(xi2)\n",
    "\n",
    "# VALOR a Y b\n",
    "\n",
    "a = ((N * Exiyi) - (Exi*Eyi))/((N*Exi2) - (pow(Exi,2)))\n",
    "b = ((Eyi * Exi2) - (Exiyi*Exi))/((N*Exi2) - (pow(Exi,2)))\n",
    "\n",
    "#ESTIMADOS\n",
    "\n",
    "estimados = [(i * b) + a for i in xi]\n"
   ]
  },
  {
   "cell_type": "code",
   "execution_count": 24,
   "metadata": {},
   "outputs": [
    {
     "name": "stdout",
     "output_type": "stream",
     "text": [
      "15.2 12.6 44.760000000000005 58.16\n",
      "0.540160642570282 0.877911646586343\n",
      "[1.4180722891566249, 1.9448192771084307, 3.5250602409638483, 4.051807228915654, 5.105301204819265]\n"
     ]
    }
   ],
   "source": [
    "print(Exi, Eyi, Exiyi, Exi2)\n",
    "print(a, b)\n",
    "\n",
    "print(estimados)"
   ]
  },
  {
   "cell_type": "code",
   "execution_count": 31,
   "metadata": {},
   "outputs": [
    {
     "data": {
      "image/png": "[encoded data removed]",
      "text/plain": [
       "<Figure size 432x288 with 1 Axes>"
      ]
     },
     "metadata": {
      "needs_background": "light"
     },
     "output_type": "display_data"
    }
   ],
   "source": [
    "# CREAR GRAFICO\n",
    "plt.scatter(range(1,6),estimados)\n",
    "plt.show()"
   ]
  }
 ],
 "metadata": {
  "kernelspec": {
   "display_name": "Python 3",
   "language": "python",
   "name": "python3"
  },
  "language_info": {
   "codemirror_mode": {
    "name": "ipython",
    "version": 3
   },
   "file_extension": ".py",
   "mimetype": "text/x-python",
   "name": "python",
   "nbconvert_exporter": "python",
   "pygments_lexer": "ipython3",
   "version": "3.9.6"
  },
  "orig_nbformat": 4
 },
 "nbformat": 4,
 "nbformat_minor": 2
}
